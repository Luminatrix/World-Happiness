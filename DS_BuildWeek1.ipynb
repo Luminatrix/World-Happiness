{
  "nbformat": 4,
  "nbformat_minor": 0,
  "metadata": {
    "colab": {
      "name": "DS_BuildWeek1.ipynb",
      "provenance": [],
      "collapsed_sections": [],
      "include_colab_link": true
    },
    "kernelspec": {
      "name": "python3",
      "display_name": "Python 3"
    }
  },
  "cells": [
    {
      "cell_type": "markdown",
      "metadata": {
        "id": "view-in-github",
        "colab_type": "text"
      },
      "source": [
        "<a href=\"https://colab.research.google.com/github/Luminatrix/World-Happiness/blob/master/DS_BuildWeek1.ipynb\" target=\"_parent\"><img src=\"https://colab.research.google.com/assets/colab-badge.svg\" alt=\"Open In Colab\"/></a>"
      ]
    },
    {
      "cell_type": "markdown",
      "metadata": {
        "id": "cl2KQSnZjNr3",
        "colab_type": "text"
      },
      "source": [
        "##BUILD WEEK UNIT 1\n",
        "\n",
        "This project began with my friends and I asking a question about dating apps, and whether or not they were actually useful. I went through the process of collecting and cleaning all of the data for that (or so I thought) -- got 80 percent of the way through only to realize that in order to get the calculations I needed, I would need totals of certain data from dating sites dating back to 1995 and given my current skill set, length of time it takes me to teach myself something, against the backdrop of buildweek timelines, I chose to scrap that idea and start over."
      ]
    },
    {
      "cell_type": "markdown",
      "metadata": {
        "id": "UHco0Lx52O8Q",
        "colab_type": "text"
      },
      "source": [
        "#WORLD HAPPINESS 2019"
      ]
    },
    {
      "cell_type": "code",
      "metadata": {
        "id": "Keks0ve_Q0-5",
        "colab_type": "code",
        "colab": {}
      },
      "source": [
        "import pandas as pd\n",
        "import numpy as np\n",
        "import matplotlib.pyplot as plt\n",
        "import seaborn as sns\n",
        "import statistics\n",
        "from itertools import product\n",
        "%matplotlib inline\n",
        "#importing libraries + setting backend to inline\n"
      ],
      "execution_count": 0,
      "outputs": []
    },
    {
      "cell_type": "markdown",
      "metadata": {
        "id": "IvWpCBJxM_e6",
        "colab_type": "text"
      },
      "source": [
        "#SOURCES\n",
        "\n",
        "https://www.kaggle.com/unsdsn/world-happiness\n",
        "Gender: UN Data set that includes Gender Inequality Index, female political participation and internet users.\n",
        "\n",
        "UNDP Human Development Reports Office (HDRO)http://hdr.undp.org/en\n",
        "\n",
        "Global internet use(concatenated onto gender above) http://data.un.org/Data.aspx?d=ITU&f=ind1Code%3aI99H\n"
      ]
    },
    {
      "cell_type": "code",
      "metadata": {
        "id": "XHslIOraA5rl",
        "colab_type": "code",
        "colab": {}
      },
      "source": [
        "url = 'https://raw.githubusercontent.com/Luminatrix/World-Happiness/master/world-happiness-report-2019.csv'\n",
        "url2 = 'https://raw.githubusercontent.com/Luminatrix/World-Happiness/master/countries%20-%20Sheet1.csv'\n",
        "happiness = pd.read_csv(url)\n",
        "region = pd.read_csv(url2)\n",
        "happiness.columns = ['Country (region)', 'Life Satisfaction', 'STD of Life Satisfaction', 'Positive Emotion', 'Negative Emotion', 'Social Support', 'Freedom', 'Corruption', 'Generosity', 'GDP per capita', 'Healthy Life-expectancy' ]\n",
        "\n",
        "# Dataset is now stored in a Pandas Dataframe, with new column names\n",
        "\n",
        "\n"
      ],
      "execution_count": 0,
      "outputs": []
    },
    {
      "cell_type": "code",
      "metadata": {
        "id": "FuqVWHq1Ul6y",
        "colab_type": "code",
        "colab": {
          "base_uri": "https://localhost:8080/",
          "height": 238
        },
        "outputId": "449c9d9d-890c-4ac3-ee8f-7fdfd6144be5"
      },
      "source": [
        "happiness.head()\n"
      ],
      "execution_count": 39,
      "outputs": [
        {
          "output_type": "execute_result",
          "data": {
            "text/html": [
              "<div>\n",
              "<style scoped>\n",
              "    .dataframe tbody tr th:only-of-type {\n",
              "        vertical-align: middle;\n",
              "    }\n",
              "\n",
              "    .dataframe tbody tr th {\n",
              "        vertical-align: top;\n",
              "    }\n",
              "\n",
              "    .dataframe thead th {\n",
              "        text-align: right;\n",
              "    }\n",
              "</style>\n",
              "<table border=\"1\" class=\"dataframe\">\n",
              "  <thead>\n",
              "    <tr style=\"text-align: right;\">\n",
              "      <th></th>\n",
              "      <th>Country (region)</th>\n",
              "      <th>Life Satisfaction</th>\n",
              "      <th>STD of Life Satisfaction</th>\n",
              "      <th>Positive Emotion</th>\n",
              "      <th>Negative Emotion</th>\n",
              "      <th>Social Support</th>\n",
              "      <th>Freedom</th>\n",
              "      <th>Corruption</th>\n",
              "      <th>Generosity</th>\n",
              "      <th>GDP per capita</th>\n",
              "      <th>Healthy Life-expectancy</th>\n",
              "    </tr>\n",
              "  </thead>\n",
              "  <tbody>\n",
              "    <tr>\n",
              "      <th>0</th>\n",
              "      <td>Finland</td>\n",
              "      <td>1</td>\n",
              "      <td>4</td>\n",
              "      <td>41.0</td>\n",
              "      <td>10.0</td>\n",
              "      <td>2.0</td>\n",
              "      <td>5.0</td>\n",
              "      <td>4.0</td>\n",
              "      <td>47.0</td>\n",
              "      <td>22.0</td>\n",
              "      <td>27.0</td>\n",
              "    </tr>\n",
              "    <tr>\n",
              "      <th>1</th>\n",
              "      <td>Denmark</td>\n",
              "      <td>2</td>\n",
              "      <td>13</td>\n",
              "      <td>24.0</td>\n",
              "      <td>26.0</td>\n",
              "      <td>4.0</td>\n",
              "      <td>6.0</td>\n",
              "      <td>3.0</td>\n",
              "      <td>22.0</td>\n",
              "      <td>14.0</td>\n",
              "      <td>23.0</td>\n",
              "    </tr>\n",
              "    <tr>\n",
              "      <th>2</th>\n",
              "      <td>Norway</td>\n",
              "      <td>3</td>\n",
              "      <td>8</td>\n",
              "      <td>16.0</td>\n",
              "      <td>29.0</td>\n",
              "      <td>3.0</td>\n",
              "      <td>3.0</td>\n",
              "      <td>8.0</td>\n",
              "      <td>11.0</td>\n",
              "      <td>7.0</td>\n",
              "      <td>12.0</td>\n",
              "    </tr>\n",
              "    <tr>\n",
              "      <th>3</th>\n",
              "      <td>Iceland</td>\n",
              "      <td>4</td>\n",
              "      <td>9</td>\n",
              "      <td>3.0</td>\n",
              "      <td>3.0</td>\n",
              "      <td>1.0</td>\n",
              "      <td>7.0</td>\n",
              "      <td>45.0</td>\n",
              "      <td>3.0</td>\n",
              "      <td>15.0</td>\n",
              "      <td>13.0</td>\n",
              "    </tr>\n",
              "    <tr>\n",
              "      <th>4</th>\n",
              "      <td>Netherlands</td>\n",
              "      <td>5</td>\n",
              "      <td>1</td>\n",
              "      <td>12.0</td>\n",
              "      <td>25.0</td>\n",
              "      <td>15.0</td>\n",
              "      <td>19.0</td>\n",
              "      <td>12.0</td>\n",
              "      <td>7.0</td>\n",
              "      <td>12.0</td>\n",
              "      <td>18.0</td>\n",
              "    </tr>\n",
              "  </tbody>\n",
              "</table>\n",
              "</div>"
            ],
            "text/plain": [
              "  Country (region)  Life Satisfaction  ...  GDP per capita  Healthy Life-expectancy\n",
              "0          Finland                  1  ...            22.0                     27.0\n",
              "1          Denmark                  2  ...            14.0                     23.0\n",
              "2           Norway                  3  ...             7.0                     12.0\n",
              "3          Iceland                  4  ...            15.0                     13.0\n",
              "4      Netherlands                  5  ...            12.0                     18.0\n",
              "\n",
              "[5 rows x 11 columns]"
            ]
          },
          "metadata": {
            "tags": []
          },
          "execution_count": 39
        }
      ]
    },
    {
      "cell_type": "markdown",
      "metadata": {
        "id": "2wKq94R5YJS3",
        "colab_type": "text"
      },
      "source": [
        "\n",
        "Each cell contains a measurement of how it ranks compared to the other countries on the list.\n",
        "\n",
        "Columns 'Social support', 'Freedom', 'Corruption', 'Generosity', 'GDP per capita', 'Healthy Life-expectancy' are a measure of how heavily the column contributed to that region's happiness score and is NOT a reflection of how happy that Region is.\n",
        "\n",
        "This is an important differentiation to make: A country with low happiness in Life Satisfaction but ranking low in Freedom, means that the lack in Freedom played a role in the low happiness score"
      ]
    },
    {
      "cell_type": "code",
      "metadata": {
        "id": "QFVXCrE0XquT",
        "colab_type": "code",
        "colab": {}
      },
      "source": [
        "# region.head()"
      ],
      "execution_count": 0,
      "outputs": []
    },
    {
      "cell_type": "code",
      "metadata": {
        "id": "64bck40SVsz3",
        "colab_type": "code",
        "colab": {}
      },
      "source": [
        "# happiness.describe()\n",
        "# region.describe()"
      ],
      "execution_count": 0,
      "outputs": []
    },
    {
      "cell_type": "code",
      "metadata": {
        "id": "SYD_dVrcYN4R",
        "colab_type": "code",
        "colab": {}
      },
      "source": [
        "# happiness.isnull().sum()\n",
        "happiness = happiness.fillna(0)\n",
        "\n"
      ],
      "execution_count": 0,
      "outputs": []
    },
    {
      "cell_type": "code",
      "metadata": {
        "id": "TRmfw4EJIYq6",
        "colab_type": "code",
        "colab": {}
      },
      "source": [
        "# region.isnull().sum()\n",
        "region = region.fillna(0)"
      ],
      "execution_count": 0,
      "outputs": []
    },
    {
      "cell_type": "code",
      "metadata": {
        "id": "TnXte_GBvgd7",
        "colab_type": "code",
        "colab": {}
      },
      "source": [
        "# happiness.head()"
      ],
      "execution_count": 0,
      "outputs": []
    },
    {
      "cell_type": "markdown",
      "metadata": {
        "id": "q6RWKOQSbmi-",
        "colab_type": "text"
      },
      "source": [
        "#Heat Map Correlations\n",
        "###Below are the correlative strengths & weaknesses between different columns.\n",
        "\n",
        "Expectedly, Healthy Life Expectancy, Social Support and\n",
        "GDP per capita (Standard of Living) have large impacts towards perceived happiness.\n",
        "\n",
        "\n",
        "Unexpectedly, corruption seems to play very little role in how the country is ranked and almost no relationship with any of the other factors. \n",
        "\n",
        "Very interesting that Corruption has an extremely high likelihood of positive correlation with Freedom.\n",
        "\n"
      ]
    },
    {
      "cell_type": "code",
      "metadata": {
        "id": "BvkPGe_PCk8b",
        "colab_type": "code",
        "colab": {
          "base_uri": "https://localhost:8080/",
          "height": 615
        },
        "outputId": "21228b05-68da-4c29-f3d1-bd8e1d791f0c"
      },
      "source": [
        "plt.figure(figsize = (10, 8))\n",
        "sns.heatmap(happiness.corr(), annot=True, linewidths=.5, square=True, cmap=\"rocket_r\")"
      ],
      "execution_count": 24,
      "outputs": [
        {
          "output_type": "execute_result",
          "data": {
            "text/plain": [
              "<matplotlib.axes._subplots.AxesSubplot at 0x7f855d20c8d0>"
            ]
          },
          "metadata": {
            "tags": []
          },
          "execution_count": 24
        },
        {
          "output_type": "display_data",
          "data": {
            "image/png": "[encoded data removed]",
            "text/plain": [
              "<Figure size 720x576 with 2 Axes>"
            ]
          },
          "metadata": {
            "tags": []
          }
        }
      ]
    },
    {
      "cell_type": "markdown",
      "metadata": {
        "id": "Lc5pHVSBtyc4",
        "colab_type": "text"
      },
      "source": [
        "#Joint Plot Correlations\n",
        "Showing extreme potential for positive correlation"
      ]
    },
    {
      "cell_type": "code",
      "metadata": {
        "id": "wahoQDnNOChG",
        "colab_type": "code",
        "colab": {
          "base_uri": "https://localhost:8080/",
          "height": 215
        },
        "outputId": "3980ca30-5de2-4bcf-945c-d4a6dd1c0721"
      },
      "source": [
        "g = sns.jointplot('Freedom', 'Corruption',data=happiness, kind='hex' )\n",
        "g.ax_joint.scatter('Freedom', 'Corruption', c=red)\n",
        "\n",
        "\n"
      ],
      "execution_count": 1,
      "outputs": [
        {
          "output_type": "error",
          "ename": "NameError",
          "evalue": "ignored",
          "traceback": [
            "\u001b[0;31m---------------------------------------------------------------------------\u001b[0m",
            "\u001b[0;31mNameError\u001b[0m                                 Traceback (most recent call last)",
            "\u001b[0;32m<ipython-input-1-fe4e53cb3bce>\u001b[0m in \u001b[0;36m<module>\u001b[0;34m()\u001b[0m\n\u001b[0;32m----> 1\u001b[0;31m \u001b[0mg\u001b[0m \u001b[0;34m=\u001b[0m \u001b[0msns\u001b[0m\u001b[0;34m.\u001b[0m\u001b[0mjointplot\u001b[0m\u001b[0;34m(\u001b[0m\u001b[0;34m'Freedom'\u001b[0m\u001b[0;34m,\u001b[0m \u001b[0;34m'Corruption'\u001b[0m\u001b[0;34m,\u001b[0m\u001b[0mdata\u001b[0m\u001b[0;34m=\u001b[0m\u001b[0mhappiness\u001b[0m\u001b[0;34m,\u001b[0m \u001b[0mkind\u001b[0m\u001b[0;34m=\u001b[0m\u001b[0;34m'hex'\u001b[0m \u001b[0;34m)\u001b[0m\u001b[0;34m\u001b[0m\u001b[0;34m\u001b[0m\u001b[0m\n\u001b[0m\u001b[1;32m      2\u001b[0m \u001b[0mg\u001b[0m\u001b[0;34m.\u001b[0m\u001b[0max_joint\u001b[0m\u001b[0;34m.\u001b[0m\u001b[0mscatter\u001b[0m\u001b[0;34m(\u001b[0m\u001b[0;34m'Freedom'\u001b[0m\u001b[0;34m,\u001b[0m \u001b[0;34m'Corruption'\u001b[0m\u001b[0;34m,\u001b[0m \u001b[0mc\u001b[0m\u001b[0;34m=\u001b[0m\u001b[0mred\u001b[0m\u001b[0;34m)\u001b[0m\u001b[0;34m\u001b[0m\u001b[0;34m\u001b[0m\u001b[0m\n\u001b[1;32m      3\u001b[0m \u001b[0;34m\u001b[0m\u001b[0m\n\u001b[1;32m      4\u001b[0m \u001b[0;34m\u001b[0m\u001b[0m\n",
            "\u001b[0;31mNameError\u001b[0m: name 'sns' is not defined"
          ]
        }
      ]
    },
    {
      "cell_type": "code",
      "metadata": {
        "id": "cfP2oan8IdZ2",
        "colab_type": "code",
        "colab": {
          "base_uri": "https://localhost:8080/",
          "height": 34
        },
        "outputId": "5d82b4e9-5b45-4144-ca5b-4f0b7b3b26e3"
      },
      "source": [
        "# Strip whitespaces\n",
        "region = region.apply(lambda x: x.str.strip() if x.dtype == \"object\" else x)\n",
        "\n",
        "\n",
        "# Merge happiness metrics with other country-related metrics\n",
        "#Merging dataframes\n",
        "df = pd.merge(left=happiness,right=region, left_on='Country (region)', right_on='Country')\n",
        "df.shape"
      ],
      "execution_count": 25,
      "outputs": [
        {
          "output_type": "execute_result",
          "data": {
            "text/plain": [
              "(142, 31)"
            ]
          },
          "metadata": {
            "tags": []
          },
          "execution_count": 25
        }
      ]
    },
    {
      "cell_type": "code",
      "metadata": {
        "id": "-INIMfFBaWj3",
        "colab_type": "code",
        "colab": {}
      },
      "source": [
        "df.head(2)"
      ],
      "execution_count": 0,
      "outputs": []
    },
    {
      "cell_type": "code",
      "metadata": {
        "id": "VznwViO0OCTy",
        "colab_type": "code",
        "colab": {
          "base_uri": "https://localhost:8080/",
          "height": 713
        },
        "outputId": "995992d9-65d8-474f-891d-588213e2ec7e"
      },
      "source": [
        "df.groupby('Region').mean()"
      ],
      "execution_count": 26,
      "outputs": [
        {
          "output_type": "execute_result",
          "data": {
            "text/html": [
              "<div>\n",
              "<style scoped>\n",
              "    .dataframe tbody tr th:only-of-type {\n",
              "        vertical-align: middle;\n",
              "    }\n",
              "\n",
              "    .dataframe tbody tr th {\n",
              "        vertical-align: top;\n",
              "    }\n",
              "\n",
              "    .dataframe thead th {\n",
              "        text-align: right;\n",
              "    }\n",
              "</style>\n",
              "<table border=\"1\" class=\"dataframe\">\n",
              "  <thead>\n",
              "    <tr style=\"text-align: right;\">\n",
              "      <th></th>\n",
              "      <th>Life Satisfaction</th>\n",
              "      <th>STD of Life Satisfaction</th>\n",
              "      <th>Positive Emotion</th>\n",
              "      <th>Negative Emotion</th>\n",
              "      <th>Social Support</th>\n",
              "      <th>Freedom</th>\n",
              "      <th>Corruption</th>\n",
              "      <th>Generosity</th>\n",
              "      <th>GDP per capita</th>\n",
              "      <th>Healthy Life-expectancy</th>\n",
              "      <th>Population</th>\n",
              "      <th>Area (sq. mi.)</th>\n",
              "      <th>Pop. Density (per sq. mi.)</th>\n",
              "      <th>Coastline (coast/area ratio)</th>\n",
              "      <th>Net migration</th>\n",
              "      <th>Infant mortality (per 1000 births)</th>\n",
              "      <th>GDP ($ per capita)</th>\n",
              "      <th>Literacy (%)</th>\n",
              "      <th>Phones (per 1000)</th>\n",
              "      <th>Arable (%)</th>\n",
              "      <th>Crops (%)</th>\n",
              "      <th>Other (%)</th>\n",
              "      <th>Climate</th>\n",
              "      <th>Birthrate</th>\n",
              "      <th>Deathrate</th>\n",
              "      <th>Agriculture</th>\n",
              "      <th>Industry</th>\n",
              "      <th>Service</th>\n",
              "    </tr>\n",
              "    <tr>\n",
              "      <th>Region</th>\n",
              "      <th></th>\n",
              "      <th></th>\n",
              "      <th></th>\n",
              "      <th></th>\n",
              "      <th></th>\n",
              "      <th></th>\n",
              "      <th></th>\n",
              "      <th></th>\n",
              "      <th></th>\n",
              "      <th></th>\n",
              "      <th></th>\n",
              "      <th></th>\n",
              "      <th></th>\n",
              "      <th></th>\n",
              "      <th></th>\n",
              "      <th></th>\n",
              "      <th></th>\n",
              "      <th></th>\n",
              "      <th></th>\n",
              "      <th></th>\n",
              "      <th></th>\n",
              "      <th></th>\n",
              "      <th></th>\n",
              "      <th></th>\n",
              "      <th></th>\n",
              "      <th></th>\n",
              "      <th></th>\n",
              "      <th></th>\n",
              "    </tr>\n",
              "  </thead>\n",
              "  <tbody>\n",
              "    <tr>\n",
              "      <th>ASIA (EX. NEAR EAST)</th>\n",
              "      <td>90.380952</td>\n",
              "      <td>61.142857</td>\n",
              "      <td>68.238095</td>\n",
              "      <td>72.476190</td>\n",
              "      <td>88.476190</td>\n",
              "      <td>56.857143</td>\n",
              "      <td>71.350000</td>\n",
              "      <td>56.809524</td>\n",
              "      <td>80.500000</td>\n",
              "      <td>78.368421</td>\n",
              "      <td>1.698279e+08</td>\n",
              "      <td>1.056099e+06</td>\n",
              "      <td>816.247619</td>\n",
              "      <td>6.121905</td>\n",
              "      <td>1.513333</td>\n",
              "      <td>45.265714</td>\n",
              "      <td>7723.809524</td>\n",
              "      <td>76.242857</td>\n",
              "      <td>160.504762</td>\n",
              "      <td>17.750000</td>\n",
              "      <td>4.012381</td>\n",
              "      <td>78.237619</td>\n",
              "      <td>1.850000</td>\n",
              "      <td>21.900000</td>\n",
              "      <td>8.086190</td>\n",
              "      <td>0.178810</td>\n",
              "      <td>0.313857</td>\n",
              "      <td>0.507286</td>\n",
              "    </tr>\n",
              "    <tr>\n",
              "      <th>BALTICS</th>\n",
              "      <td>50.000000</td>\n",
              "      <td>39.000000</td>\n",
              "      <td>102.333333</td>\n",
              "      <td>28.333333</td>\n",
              "      <td>21.000000</td>\n",
              "      <td>97.666667</td>\n",
              "      <td>78.333333</td>\n",
              "      <td>104.000000</td>\n",
              "      <td>38.666667</td>\n",
              "      <td>57.000000</td>\n",
              "      <td>2.394991e+06</td>\n",
              "      <td>5.833833e+04</td>\n",
              "      <td>39.833333</td>\n",
              "      <td>3.116667</td>\n",
              "      <td>-2.033333</td>\n",
              "      <td>8.103333</td>\n",
              "      <td>11300.000000</td>\n",
              "      <td>99.733333</td>\n",
              "      <td>292.866667</td>\n",
              "      <td>30.310000</td>\n",
              "      <td>0.610000</td>\n",
              "      <td>69.080000</td>\n",
              "      <td>3.000000</td>\n",
              "      <td>9.343333</td>\n",
              "      <td>12.630000</td>\n",
              "      <td>0.045000</td>\n",
              "      <td>0.293333</td>\n",
              "      <td>0.661667</td>\n",
              "    </tr>\n",
              "    <tr>\n",
              "      <th>C.W. OF IND. STATES</th>\n",
              "      <td>85.500000</td>\n",
              "      <td>49.500000</td>\n",
              "      <td>110.250000</td>\n",
              "      <td>42.083333</td>\n",
              "      <td>63.166667</td>\n",
              "      <td>93.583333</td>\n",
              "      <td>76.909091</td>\n",
              "      <td>84.250000</td>\n",
              "      <td>83.583333</td>\n",
              "      <td>85.166667</td>\n",
              "      <td>2.334013e+07</td>\n",
              "      <td>1.841737e+06</td>\n",
              "      <td>56.708333</td>\n",
              "      <td>0.093333</td>\n",
              "      <td>-2.033333</td>\n",
              "      <td>44.410000</td>\n",
              "      <td>4000.000000</td>\n",
              "      <td>98.725000</td>\n",
              "      <td>163.850000</td>\n",
              "      <td>19.454167</td>\n",
              "      <td>2.022500</td>\n",
              "      <td>78.523333</td>\n",
              "      <td>2.550000</td>\n",
              "      <td>17.855833</td>\n",
              "      <td>10.341667</td>\n",
              "      <td>0.192000</td>\n",
              "      <td>0.328000</td>\n",
              "      <td>0.480167</td>\n",
              "    </tr>\n",
              "    <tr>\n",
              "      <th>EASTERN EUROPE</th>\n",
              "      <td>62.272727</td>\n",
              "      <td>56.454545</td>\n",
              "      <td>100.000000</td>\n",
              "      <td>60.818182</td>\n",
              "      <td>54.636364</td>\n",
              "      <td>88.636364</td>\n",
              "      <td>128.818182</td>\n",
              "      <td>82.909091</td>\n",
              "      <td>51.363636</td>\n",
              "      <td>44.363636</td>\n",
              "      <td>1.049234e+07</td>\n",
              "      <td>1.000994e+05</td>\n",
              "      <td>102.072727</td>\n",
              "      <td>1.125455</td>\n",
              "      <td>-0.734545</td>\n",
              "      <td>11.926364</td>\n",
              "      <td>10145.454545</td>\n",
              "      <td>97.088889</td>\n",
              "      <td>286.690909</td>\n",
              "      <td>32.562727</td>\n",
              "      <td>2.382727</td>\n",
              "      <td>65.055455</td>\n",
              "      <td>3.000000</td>\n",
              "      <td>10.531000</td>\n",
              "      <td>10.486000</td>\n",
              "      <td>0.087636</td>\n",
              "      <td>0.309364</td>\n",
              "      <td>0.603091</td>\n",
              "    </tr>\n",
              "    <tr>\n",
              "      <th>LATIN AMER. &amp; CARIB</th>\n",
              "      <td>52.000000</td>\n",
              "      <td>108.500000</td>\n",
              "      <td>34.900000</td>\n",
              "      <td>89.050000</td>\n",
              "      <td>62.200000</td>\n",
              "      <td>60.500000</td>\n",
              "      <td>84.050000</td>\n",
              "      <td>92.350000</td>\n",
              "      <td>81.300000</td>\n",
              "      <td>60.000000</td>\n",
              "      <td>2.706073e+07</td>\n",
              "      <td>9.948965e+05</td>\n",
              "      <td>84.865000</td>\n",
              "      <td>1.540500</td>\n",
              "      <td>-1.827500</td>\n",
              "      <td>26.601500</td>\n",
              "      <td>5890.000000</td>\n",
              "      <td>86.450000</td>\n",
              "      <td>141.640000</td>\n",
              "      <td>10.769500</td>\n",
              "      <td>3.695000</td>\n",
              "      <td>85.536000</td>\n",
              "      <td>2.075000</td>\n",
              "      <td>22.363000</td>\n",
              "      <td>6.057500</td>\n",
              "      <td>0.113200</td>\n",
              "      <td>0.304900</td>\n",
              "      <td>0.581950</td>\n",
              "    </tr>\n",
              "    <tr>\n",
              "      <th>NEAR EAST</th>\n",
              "      <td>71.153846</td>\n",
              "      <td>88.307692</td>\n",
              "      <td>104.916667</td>\n",
              "      <td>97.666667</td>\n",
              "      <td>83.833333</td>\n",
              "      <td>92.583333</td>\n",
              "      <td>79.857143</td>\n",
              "      <td>66.750000</td>\n",
              "      <td>43.250000</td>\n",
              "      <td>66.384615</td>\n",
              "      <td>1.446745e+07</td>\n",
              "      <td>3.182235e+05</td>\n",
              "      <td>186.923077</td>\n",
              "      <td>3.503846</td>\n",
              "      <td>2.887692</td>\n",
              "      <td>23.998462</td>\n",
              "      <td>11753.846154</td>\n",
              "      <td>79.807692</td>\n",
              "      <td>221.808333</td>\n",
              "      <td>9.462308</td>\n",
              "      <td>3.194615</td>\n",
              "      <td>87.343077</td>\n",
              "      <td>1.500000</td>\n",
              "      <td>22.550000</td>\n",
              "      <td>5.032308</td>\n",
              "      <td>0.067231</td>\n",
              "      <td>0.426385</td>\n",
              "      <td>0.506154</td>\n",
              "    </tr>\n",
              "    <tr>\n",
              "      <th>NORTHERN AFRICA</th>\n",
              "      <td>102.000000</td>\n",
              "      <td>83.400000</td>\n",
              "      <td>120.200000</td>\n",
              "      <td>118.000000</td>\n",
              "      <td>110.400000</td>\n",
              "      <td>115.200000</td>\n",
              "      <td>70.200000</td>\n",
              "      <td>129.000000</td>\n",
              "      <td>80.400000</td>\n",
              "      <td>84.200000</td>\n",
              "      <td>3.222682e+07</td>\n",
              "      <td>1.150578e+06</td>\n",
              "      <td>46.520000</td>\n",
              "      <td>0.298000</td>\n",
              "      <td>-0.432000</td>\n",
              "      <td>30.916000</td>\n",
              "      <td>5460.000000</td>\n",
              "      <td>67.240000</td>\n",
              "      <td>100.200000</td>\n",
              "      <td>8.918000</td>\n",
              "      <td>3.366000</td>\n",
              "      <td>87.716000</td>\n",
              "      <td>1.666667</td>\n",
              "      <td>20.814000</td>\n",
              "      <td>4.806000</td>\n",
              "      <td>0.135000</td>\n",
              "      <td>0.426200</td>\n",
              "      <td>0.438400</td>\n",
              "    </tr>\n",
              "    <tr>\n",
              "      <th>NORTHERN AMERICA</th>\n",
              "      <td>14.000000</td>\n",
              "      <td>36.000000</td>\n",
              "      <td>26.500000</td>\n",
              "      <td>59.500000</td>\n",
              "      <td>28.500000</td>\n",
              "      <td>35.500000</td>\n",
              "      <td>26.500000</td>\n",
              "      <td>13.000000</td>\n",
              "      <td>14.500000</td>\n",
              "      <td>23.500000</td>\n",
              "      <td>1.657716e+08</td>\n",
              "      <td>9.808045e+06</td>\n",
              "      <td>17.150000</td>\n",
              "      <td>1.115000</td>\n",
              "      <td>4.685000</td>\n",
              "      <td>5.625000</td>\n",
              "      <td>33800.000000</td>\n",
              "      <td>97.000000</td>\n",
              "      <td>725.100000</td>\n",
              "      <td>12.045000</td>\n",
              "      <td>0.120000</td>\n",
              "      <td>87.835000</td>\n",
              "      <td>3.000000</td>\n",
              "      <td>12.460000</td>\n",
              "      <td>8.030000</td>\n",
              "      <td>0.016000</td>\n",
              "      <td>0.249000</td>\n",
              "      <td>0.735500</td>\n",
              "    </tr>\n",
              "    <tr>\n",
              "      <th>OCEANIA</th>\n",
              "      <td>9.500000</td>\n",
              "      <td>20.500000</td>\n",
              "      <td>34.500000</td>\n",
              "      <td>24.500000</td>\n",
              "      <td>6.000000</td>\n",
              "      <td>12.500000</td>\n",
              "      <td>9.000000</td>\n",
              "      <td>7.000000</td>\n",
              "      <td>22.000000</td>\n",
              "      <td>12.000000</td>\n",
              "      <td>1.217011e+07</td>\n",
              "      <td>3.977765e+06</td>\n",
              "      <td>8.900000</td>\n",
              "      <td>2.985000</td>\n",
              "      <td>4.015000</td>\n",
              "      <td>5.270000</td>\n",
              "      <td>25300.000000</td>\n",
              "      <td>99.500000</td>\n",
              "      <td>503.600000</td>\n",
              "      <td>6.075000</td>\n",
              "      <td>3.515000</td>\n",
              "      <td>90.410000</td>\n",
              "      <td>2.000000</td>\n",
              "      <td>12.950000</td>\n",
              "      <td>7.520000</td>\n",
              "      <td>0.040500</td>\n",
              "      <td>0.267500</td>\n",
              "      <td>0.692000</td>\n",
              "    </tr>\n",
              "    <tr>\n",
              "      <th>SUB-SAHARAN AFRICA</th>\n",
              "      <td>124.470588</td>\n",
              "      <td>116.558824</td>\n",
              "      <td>82.617647</td>\n",
              "      <td>96.794118</td>\n",
              "      <td>119.705882</td>\n",
              "      <td>95.735294</td>\n",
              "      <td>75.294118</td>\n",
              "      <td>105.176471</td>\n",
              "      <td>121.757576</td>\n",
              "      <td>125.787879</td>\n",
              "      <td>1.756362e+07</td>\n",
              "      <td>4.919841e+05</td>\n",
              "      <td>87.320588</td>\n",
              "      <td>0.855882</td>\n",
              "      <td>-0.092059</td>\n",
              "      <td>83.373636</td>\n",
              "      <td>2436.363636</td>\n",
              "      <td>60.181818</td>\n",
              "      <td>24.869697</td>\n",
              "      <td>14.105152</td>\n",
              "      <td>2.943636</td>\n",
              "      <td>82.951818</td>\n",
              "      <td>1.843750</td>\n",
              "      <td>37.458788</td>\n",
              "      <td>16.566061</td>\n",
              "      <td>0.307636</td>\n",
              "      <td>0.254970</td>\n",
              "      <td>0.437727</td>\n",
              "    </tr>\n",
              "    <tr>\n",
              "      <th>WESTERN EUROPE</th>\n",
              "      <td>19.894737</td>\n",
              "      <td>22.315789</td>\n",
              "      <td>55.315789</td>\n",
              "      <td>48.157895</td>\n",
              "      <td>23.315789</td>\n",
              "      <td>42.263158</td>\n",
              "      <td>36.421053</td>\n",
              "      <td>36.789474</td>\n",
              "      <td>19.631579</td>\n",
              "      <td>16.684211</td>\n",
              "      <td>2.083505e+07</td>\n",
              "      <td>1.951376e+05</td>\n",
              "      <td>198.026316</td>\n",
              "      <td>6.236842</td>\n",
              "      <td>2.602632</td>\n",
              "      <td>4.488947</td>\n",
              "      <td>28757.894737</td>\n",
              "      <td>98.315789</td>\n",
              "      <td>531.200000</td>\n",
              "      <td>21.166842</td>\n",
              "      <td>2.394211</td>\n",
              "      <td>76.438947</td>\n",
              "      <td>3.062500</td>\n",
              "      <td>10.706316</td>\n",
              "      <td>9.417368</td>\n",
              "      <td>0.027474</td>\n",
              "      <td>0.271368</td>\n",
              "      <td>0.701105</td>\n",
              "    </tr>\n",
              "  </tbody>\n",
              "</table>\n",
              "</div>"
            ],
            "text/plain": [
              "                      Life Satisfaction  ...   Service\n",
              "Region                                   ...          \n",
              "ASIA (EX. NEAR EAST)          90.380952  ...  0.507286\n",
              "BALTICS                       50.000000  ...  0.661667\n",
              "C.W. OF IND. STATES           85.500000  ...  0.480167\n",
              "EASTERN EUROPE                62.272727  ...  0.603091\n",
              "LATIN AMER. & CARIB           52.000000  ...  0.581950\n",
              "NEAR EAST                     71.153846  ...  0.506154\n",
              "NORTHERN AFRICA              102.000000  ...  0.438400\n",
              "NORTHERN AMERICA              14.000000  ...  0.735500\n",
              "OCEANIA                        9.500000  ...  0.692000\n",
              "SUB-SAHARAN AFRICA           124.470588  ...  0.437727\n",
              "WESTERN EUROPE                19.894737  ...  0.701105\n",
              "\n",
              "[11 rows x 28 columns]"
            ]
          },
          "metadata": {
            "tags": []
          },
          "execution_count": 26
        }
      ]
    },
    {
      "cell_type": "markdown",
      "metadata": {
        "id": "sHq_hw57snKW",
        "colab_type": "text"
      },
      "source": [
        "\n",
        "#Life Satisfaction by Region\n",
        "\n",
        "In this box plot, we can see that, according to these observations, Humans in Western Europe report the most happiness, while Humans in Sub-Saharan Africa report the least happiness. \n",
        "\n",
        "Humans in the Near East (ex: Countries in the Middle East, UAE etc) have both the greatest distribution of reports of Happiness, which most likely points to a large variance in the populations satisfaction. The UAE and Israel have the highest ranking of Life Satisfaction. Syria and Yemen, with the lowest. "
      ]
    },
    {
      "cell_type": "code",
      "metadata": {
        "id": "16rV1vuTB_KR",
        "colab_type": "code",
        "outputId": "feb98fa3-4633-40f8-c63b-76f117a97490",
        "colab": {
          "base_uri": "https://localhost:8080/",
          "height": 513
        }
      },
      "source": [
        "plt.figure(figsize = (12, 7))\n",
        "ax = sns.boxplot(x='Region', y='Life Satisfaction', data=df)\n",
        "ax.set_xticklabels(ax.get_xticklabels(), rotation=10, ha='right')\n",
        "plt.tight_layout()"
      ],
      "execution_count": 27,
      "outputs": [
        {
          "output_type": "display_data",
          "data": {
            "image/png": "[encoded data removed]",
            "text/plain": [
              "<Figure size 864x504 with 1 Axes>"
            ]
          },
          "metadata": {
            "tags": []
          }
        }
      ]
    },
    {
      "cell_type": "markdown",
      "metadata": {
        "id": "LpnriWJAxLrx",
        "colab_type": "text"
      },
      "source": [
        "#The Importance of Happiness Metrics by Region"
      ]
    },
    {
      "cell_type": "code",
      "metadata": {
        "id": "224npllqxhGf",
        "colab_type": "code",
        "colab": {}
      },
      "source": [
        "metrics = ['Social Support', 'Freedom', 'Corruption', 'Generosity', 'GDP per capita', 'Healthy Life-expectancy']"
      ],
      "execution_count": 0,
      "outputs": []
    },
    {
      "cell_type": "code",
      "metadata": {
        "id": "7J8l_fSqwnVF",
        "colab_type": "code",
        "colab": {
          "base_uri": "https://localhost:8080/",
          "height": 821
        },
        "outputId": "21a484de-0b18-4ce5-e9f3-8029e46704ab"
      },
      "source": [
        "cols = df[['Region'] + metrics].melt(id_vars=['Region'], var_name='Metric',value_name='Value')\n",
        "chart = sns.catplot(kind=\"box\", x=\"Region\", y=\"Value\", col='Metric', col_wrap=3, data=cols)\n",
        "chart.set_xticklabels(ax.get_xticklabels(), rotation=30, ha=\"right\")\n"
      ],
      "execution_count": 35,
      "outputs": [
        {
          "output_type": "execute_result",
          "data": {
            "text/plain": [
              "<seaborn.axisgrid.FacetGrid at 0x7f8556b97e80>"
            ]
          },
          "metadata": {
            "tags": []
          },
          "execution_count": 35
        },
        {
          "output_type": "display_data",
          "data": {
            "image/png": "[encoded data removed]",
            "text/plain": [
              "<Figure size 1080x720 with 6 Axes>"
            ]
          },
          "metadata": {
            "tags": []
          }
        }
      ]
    },
    {
      "cell_type": "markdown",
      "metadata": {
        "id": "4kT3_qqDwoM3",
        "colab_type": "text"
      },
      "source": [
        "#The Significance of Freedom and Corruption on Individual Happiness."
      ]
    },
    {
      "cell_type": "code",
      "metadata": {
        "id": "Atze6zD539oU",
        "colab_type": "code",
        "outputId": "3eb544e5-7a42-4c6f-c5a9-c3b7e0253e3d",
        "colab": {
          "base_uri": "https://localhost:8080/",
          "height": 513
        }
      },
      "source": [
        "plt.figure(figsize = (12, 7))\n",
        "freecor = df[['Region', 'Freedom', 'Corruption']].melt(id_vars=['Region'], var_name='Metric',value_name='Value')\n",
        "ax = sns.boxplot(x=\"Region\", y=\"Value\", hue='Metric', data=freecor)\n",
        "ax.set_xticklabels(ax.get_xticklabels(), rotation=15, ha=\"right\")\n",
        "plt.tight_layout()"
      ],
      "execution_count": 36,
      "outputs": [
        {
          "output_type": "display_data",
          "data": {
            "image/png": "[encoded data removed]",
            "text/plain": [
              "<Figure size 864x504 with 1 Axes>"
            ]
          },
          "metadata": {
            "tags": []
          }
        }
      ]
    },
    {
      "cell_type": "markdown",
      "metadata": {
        "id": "tStG7j4syFer",
        "colab_type": "text"
      },
      "source": [
        ""
      ]
    },
    {
      "cell_type": "code",
      "metadata": {
        "id": "t6apMWqDAZKc",
        "colab_type": "code",
        "colab": {
          "base_uri": "https://localhost:8080/",
          "height": 221
        },
        "outputId": "96ac5538-c184-4a23-fa1d-89cf9f7bc221"
      },
      "source": [
        "IsoCountry = happiness['Country (region)']\n",
        "\n",
        "IsoCountry"
      ],
      "execution_count": 38,
      "outputs": [
        {
          "output_type": "execute_result",
          "data": {
            "text/plain": [
              "0                       Finland\n",
              "1                       Denmark\n",
              "2                        Norway\n",
              "3                       Iceland\n",
              "4                   Netherlands\n",
              "                 ...           \n",
              "151                      Rwanda\n",
              "152                    Tanzania\n",
              "153                 Afghanistan\n",
              "154    Central African Republic\n",
              "155                 South Sudan\n",
              "Name: Country (region), Length: 156, dtype: object"
            ]
          },
          "metadata": {
            "tags": []
          },
          "execution_count": 38
        }
      ]
    },
    {
      "cell_type": "code",
      "metadata": {
        "id": "bPukkPCcXqhM",
        "colab_type": "code",
        "colab": {}
      },
      "source": [
        "# regionplot = sns.stripplot(x=\"Region\", y=\"Social Support\", data=df, jitter=True)\n",
        "# plt.xticks(rotation=60)"
      ],
      "execution_count": 0,
      "outputs": []
    },
    {
      "cell_type": "code",
      "metadata": {
        "id": "RIAu7GaDXqra",
        "colab_type": "code",
        "colab": {}
      },
      "source": [
        ""
      ],
      "execution_count": 0,
      "outputs": []
    },
    {
      "cell_type": "markdown",
      "metadata": {
        "id": "DUlmPQqoOnOj",
        "colab_type": "text"
      },
      "source": [
        "#Analyzing GENDER INEQUALITY and it's relationship to global happiness. DRAFT"
      ]
    },
    {
      "cell_type": "code",
      "metadata": {
        "id": "IBV4kVAkZsLL",
        "colab_type": "code",
        "colab": {}
      },
      "source": [
        "#Loading Data from UN Gender Inequality Data set (GII) that is concatenated with UN data Political Participation and Female Internet Usage by Country\n",
        "# url3 = 'https://raw.githubusercontent.com/Luminatrix/World-Happiness/master/UN-Gender-Inequality-Index%20-%20Sheet1.csv'\n",
        "# gendermetrics = pd.read_csv(url3)\n",
        "# gendermetrics.fillna(0, inplace=True)\n",
        "# gendermetrics.isnull().sum()\n",
        "# gendermetrics.dtypes"
      ],
      "execution_count": 0,
      "outputs": []
    },
    {
      "cell_type": "code",
      "metadata": {
        "id": "Eba3PGCs-0Mt",
        "colab_type": "code",
        "colab": {}
      },
      "source": [
        "\n",
        "# # Convert \"Gender Inequality Index\" data type from object to numeric (float64)\n",
        "# gendermetrics['Gender Inequality Index'] = gendermetrics['Gender Inequality Index'].astype(int)\n",
        "# gendermetrics['Gender Inequality Index'].apply(lambda x: x.replace('$', '').replace(',', '')).astype('float')\n",
        "# gendermetrics.dtypes"
      ],
      "execution_count": 0,
      "outputs": []
    },
    {
      "cell_type": "code",
      "metadata": {
        "id": "unwlaP8kZzfo",
        "colab_type": "code",
        "colab": {}
      },
      "source": [
        "# # Changing Internet users, female (% of female population) to numeric datatype\n",
        "\n",
        "# gendermetrics['Internet users, female (% of female population)'] = pd.to_numeric(gendermetrics['Internet users, female (% of female population)'],errors='coerce')\n",
        "\n",
        "\n",
        "\n",
        "\n",
        "# np.mean(gendermetrics['Internet users, female (% of female population)'])\n",
        "\n",
        "# #Mean of \"Internet users, female (% of female population\" is 0.34539\n",
        "\n",
        "# # print(gendermetrics)\n",
        "# # gendermetrics.dtypes"
      ],
      "execution_count": 0,
      "outputs": []
    },
    {
      "cell_type": "markdown",
      "metadata": {
        "id": "Np4BeXpU_8jT",
        "colab_type": "text"
      },
      "source": [
        "approximately 35 percent of the female global population use the internet for work, education, entertainment or civically engaging. "
      ]
    },
    {
      "cell_type": "code",
      "metadata": {
        "id": "XXgjicHAZsYZ",
        "colab_type": "code",
        "colab": {}
      },
      "source": [
        "# gendermetrics.columns\n",
        "# gendermetrics.info()\n",
        "# gendermetrics.shape\n",
        "# gendermetrics.head()\n"
      ],
      "execution_count": 0,
      "outputs": []
    },
    {
      "cell_type": "code",
      "metadata": {
        "id": "veWyA7AvKi1q",
        "colab_type": "code",
        "colab": {}
      },
      "source": [
        "# gendermetrics['Gender Inequality Index'] = gendermetrics['Gender Inequality Index'].astype(float, errors='ignore')\n",
        "# type(gendermetrics['Gender Inequality Index'][0])"
      ],
      "execution_count": 0,
      "outputs": []
    },
    {
      "cell_type": "code",
      "metadata": {
        "id": "5ctnDwBkC1q6",
        "colab_type": "code",
        "colab": {}
      },
      "source": [
        "# # np.mean(gendermetrics['Gender Inequality Index'])\n",
        "# GII = gendermetrics.groupby('Gender Inequality Index')\n",
        "# Par = gendermetrics.groupby('Share of seats in parliament')"
      ],
      "execution_count": 0,
      "outputs": []
    },
    {
      "cell_type": "code",
      "metadata": {
        "id": "NrrD3nVnTi3h",
        "colab_type": "code",
        "colab": {}
      },
      "source": [
        "\n",
        "# plt.scatter(x=GII['Gender Inequality Index'], y=Par['Share of seats in parliament'], color='pink')\n",
        "# plt.xlabel('Gender Inequality Index')\n",
        "# plt.ylabel('Share of Women in Parliament')\n",
        "# plt.title('GII Relation With Number of Women in Parliament')\n",
        "\n",
        "# plt.show()"
      ],
      "execution_count": 0,
      "outputs": []
    },
    {
      "cell_type": "code",
      "metadata": {
        "id": "EmEOjgBCXpwt",
        "colab_type": "code",
        "colab": {}
      },
      "source": [
        "# # Changing GII datatype from object to numeric\n",
        "# gendermetrics['Gender Inequality Index'] = gendermetrics['Gender Inequality Index'].astype(float, errors='ignore')"
      ],
      "execution_count": 0,
      "outputs": []
    },
    {
      "cell_type": "code",
      "metadata": {
        "id": "WnBFaTK-ClR-",
        "colab_type": "code",
        "colab": {}
      },
      "source": [
        "# # Changing 'Gender Inequality Index' and 'Rank' and'Female Labor Force...' into float or integers\n",
        "\n",
        "# gendermetrics['Internet users, female (% of female population)'] = pd.to_numeric(gendermetrics['Internet users, female (% of female population)'],errors='coerce')"
      ],
      "execution_count": 0,
      "outputs": []
    },
    {
      "cell_type": "code",
      "metadata": {
        "id": "ovsNah3poTmw",
        "colab_type": "code",
        "colab": {}
      },
      "source": [
        ""
      ],
      "execution_count": 0,
      "outputs": []
    },
    {
      "cell_type": "code",
      "metadata": {
        "id": "YH8KKIozqJ6V",
        "colab_type": "code",
        "colab": {}
      },
      "source": [
        "# # Strip whitespaces\n",
        "# MULTI = gendermetrics.apply(lambda x: x.str.strip() if x.dtype == \"object\" else x)\n",
        "\n",
        "\n",
        "# # Merge happiness metrics with other country-related metrics\n",
        "# #Merging dataframes\n",
        "# happygendf = pd.merge(left=df,right=MULTI, left_on='Country (region)', right_on='Country')\n",
        "# happygendf.shape\n",
        "# happygendf.head()"
      ],
      "execution_count": 0,
      "outputs": []
    },
    {
      "cell_type": "code",
      "metadata": {
        "id": "nPEDUqtubOHd",
        "colab_type": "code",
        "colab": {}
      },
      "source": [
        "# #df from above, life satisfaction + region + gender metrics\n",
        "\n",
        "# happywithgender = df.groupby('Life Satisfaction')\n",
        "# regionwithgender = df.groupby('Region')\n",
        "# GII = gendermetrics.groupby('Gender Inequality Index')\n",
        "\n",
        "# plt.scatter(x=happygendf['Gender Inequality Index'], color='pink'), y=happygendf[''], color='pink')\n",
        "# plt.xlabel('Gender Inequality Index')\n",
        "# plt.ylabel('Happiness')\n",
        "# plt.title('GII Relation With Happiness by Region')\n",
        "\n",
        "# plt.show()\n",
        "\n",
        "\n",
        "# genderhappyplot = sns.stripplot(x=\"Gender Inequality Index\", y=\"Life Satisfaction\", data=happygendf, jitter=True)\n",
        "# plt.xticks(rotation=60)"
      ],
      "execution_count": 0,
      "outputs": []
    },
    {
      "cell_type": "code",
      "metadata": {
        "id": "meaen_aeDJ_W",
        "colab_type": "code",
        "colab": {}
      },
      "source": [
        "# g = sns.jointplot('Gender Inequality Index', 'Life Satisfaction',data=happygendf, kind='hex' )\n",
        "# g.ax_joint.scatter('Gender Inequality Index', 'Life Satisfaction', c=classes)\n",
        "\n"
      ],
      "execution_count": 0,
      "outputs": []
    },
    {
      "cell_type": "code",
      "metadata": {
        "id": "JcVXsEBvAkMr",
        "colab_type": "code",
        "colab": {}
      },
      "source": [
        "# metrics = ['Gender Inequality Index', 'Life Satisfaction', 'Freedom', 'Corruption', 'Number of Women’s Orgs', 'Internet users, female (% of female population)'"
      ],
      "execution_count": 0,
      "outputs": []
    },
    {
      "cell_type": "code",
      "metadata": {
        "id": "6HP9-pFAbhGc",
        "colab_type": "code",
        "colab": {}
      },
      "source": [
        "#df from above + life satisfaction + Number of Women’s Orgs"
      ],
      "execution_count": 0,
      "outputs": []
    },
    {
      "cell_type": "code",
      "metadata": {
        "id": "24uQ5EmBbOCx",
        "colab_type": "code",
        "colab": {}
      },
      "source": [
        "# px.data.gapminder().query(\"year==2019\")\n",
        "# fig = px.scatter_geo(happygendf, locations=\"iso_alpha\", color=\"continent\",\n",
        "#                      hover_name=\"country\", size=\"pop\",\n",
        "#                      projection='natural earth')\n",
        "# fig.show()"
      ],
      "execution_count": 0,
      "outputs": []
    },
    {
      "cell_type": "code",
      "metadata": {
        "id": "0YOXr2fHbN-x",
        "colab_type": "code",
        "colab": {}
      },
      "source": [
        ""
      ],
      "execution_count": 0,
      "outputs": []
    },
    {
      "cell_type": "code",
      "metadata": {
        "id": "MmGhlCrFbNwp",
        "colab_type": "code",
        "colab": {}
      },
      "source": [
        ""
      ],
      "execution_count": 0,
      "outputs": []
    },
    {
      "cell_type": "code",
      "metadata": {
        "id": "Nz9x2QKJOCFH",
        "colab_type": "code",
        "colab": {}
      },
      "source": [
        ""
      ],
      "execution_count": 0,
      "outputs": []
    },
    {
      "cell_type": "code",
      "metadata": {
        "id": "YxGyXMldXqc5",
        "colab_type": "code",
        "colab": {}
      },
      "source": [
        ""
      ],
      "execution_count": 0,
      "outputs": []
    },
    {
      "cell_type": "code",
      "metadata": {
        "id": "WOKl_lGZQ1FF",
        "colab_type": "code",
        "colab": {}
      },
      "source": [
        "\n",
        "                   "
      ],
      "execution_count": 0,
      "outputs": []
    },
    {
      "cell_type": "code",
      "metadata": {
        "id": "khIOsiuwSNOL",
        "colab_type": "code",
        "colab": {}
      },
      "source": [
        ""
      ],
      "execution_count": 0,
      "outputs": []
    },
    {
      "cell_type": "code",
      "metadata": {
        "id": "XlaTsWDbSNfo",
        "colab_type": "code",
        "colab": {}
      },
      "source": [
        ""
      ],
      "execution_count": 0,
      "outputs": []
    }
  ]
}